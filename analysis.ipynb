{
 "cells": [
  {
   "cell_type": "markdown",
   "metadata": {},
   "source": [
    "Doing basic analysis"
   ]
  },
  {
   "cell_type": "code",
   "execution_count": 120,
   "metadata": {},
   "outputs": [
    {
     "name": "stdout",
     "output_type": "stream",
     "text": [
      "<class 'pandas.core.frame.DataFrame'>\n",
      "RangeIndex: 594643 entries, 0 to 594642\n",
      "Data columns (total 10 columns):\n",
      " #   Column       Non-Null Count   Dtype  \n",
      "---  ------       --------------   -----  \n",
      " 0   step         594643 non-null  int64  \n",
      " 1   customer     594643 non-null  object \n",
      " 2   age          594643 non-null  object \n",
      " 3   gender       594643 non-null  object \n",
      " 4   zipcodeOri   594643 non-null  object \n",
      " 5   merchant     594643 non-null  object \n",
      " 6   zipMerchant  594643 non-null  object \n",
      " 7   category     594643 non-null  object \n",
      " 8   amount       594643 non-null  float64\n",
      " 9   fraud        594643 non-null  int64  \n",
      "dtypes: float64(1), int64(2), object(7)\n",
      "memory usage: 45.4+ MB\n",
      "   step       customer  age gender zipcodeOri       merchant zipMerchant  \\\n",
      "0     0  'C1093826151'  '4'    'M'    '28007'   'M348934600'     '28007'   \n",
      "1     0   'C352968107'  '2'    'M'    '28007'   'M348934600'     '28007'   \n",
      "2     0  'C2054744914'  '4'    'F'    '28007'  'M1823072687'     '28007'   \n",
      "3     0  'C1760612790'  '3'    'M'    '28007'   'M348934600'     '28007'   \n",
      "4     0   'C757503768'  '5'    'M'    '28007'   'M348934600'     '28007'   \n",
      "\n",
      "              category  amount  fraud  \n",
      "0  'es_transportation'    4.55      0  \n",
      "1  'es_transportation'   39.68      0  \n",
      "2  'es_transportation'   26.89      0  \n",
      "3  'es_transportation'   17.25      0  \n",
      "4  'es_transportation'   35.72      0  \n",
      "step             180\n",
      "customer        4112\n",
      "age                8\n",
      "gender             4\n",
      "zipcodeOri         1\n",
      "merchant          50\n",
      "zipMerchant        1\n",
      "category          15\n",
      "amount         23767\n",
      "fraud              2\n",
      "dtype: int64\n"
     ]
    }
   ],
   "source": [
    "from model import read_into_dataframe, extract_data\n",
    "import matplotlib.pyplot as plt\n",
    "\n",
    "df = read_into_dataframe(\"./data/bs140513_032310.csv\")\n",
    "df.info()\n",
    "print(df.head())\n",
    "print(df.nunique())"
   ]
  },
  {
   "cell_type": "markdown",
   "metadata": {},
   "source": [
    "Age should have almost 0 unique fields so we are looking at that.\n",
    "We can see that there is one U which I am assuming is a  mistake and since it is only one row we will just remove it"
   ]
  },
  {
   "cell_type": "code",
   "execution_count": 124,
   "metadata": {},
   "outputs": [
    {
     "name": "stdout",
     "output_type": "stream",
     "text": [
      "[\"'4'\" \"'2'\" \"'3'\" \"'5'\" \"'1'\" \"'6'\" \"'U'\" \"'0'\"]\n",
      "0\n"
     ]
    },
    {
     "data": {
      "text/plain": [
       "179"
      ]
     },
     "execution_count": 124,
     "metadata": {},
     "output_type": "execute_result"
    }
   ],
   "source": [
    "print(df[\"age\"].unique())\n",
    "print(df[\"step\"].min())\n",
    "df[\"step\"].max()"
   ]
  },
  {
   "cell_type": "markdown",
   "metadata": {},
   "source": [
    "Interestingly there are a two other genders 'E' and 'U' but in much lower proportion then 'F' an 'M'."
   ]
  },
  {
   "cell_type": "code",
   "execution_count": null,
   "metadata": {},
   "outputs": [],
   "source": [
    "df[\"gender\"].value_counts()"
   ]
  },
  {
   "cell_type": "markdown",
   "metadata": {},
   "source": [
    "Looking at how even the data set is in terms of fraud and not fraud.\n",
    "It is obvious that fraud and non fraud is imbalanced if scikitlearn does not automatically scramble data I should"
   ]
  },
  {
   "cell_type": "code",
   "execution_count": null,
   "metadata": {},
   "outputs": [],
   "source": [
    "df[\"fraud\"].value_counts()"
   ]
  },
  {
   "cell_type": "code",
   "execution_count": null,
   "metadata": {},
   "outputs": [],
   "source": [
    "# just moved to different block so that it isn't rerun\n",
    "x_df, y_df = extract_data(df)\n",
    "df = x_df.join(y_df)"
   ]
  },
  {
   "cell_type": "code",
   "execution_count": null,
   "metadata": {},
   "outputs": [],
   "source": [
    "print(df.corr())\n",
    "df.describe().T"
   ]
  },
  {
   "cell_type": "markdown",
   "metadata": {},
   "source": [
    "Looking at the one hot encoded columns which I created"
   ]
  },
  {
   "cell_type": "code",
   "execution_count": null,
   "metadata": {},
   "outputs": [],
   "source": [
    "boolean_columns = df.select_dtypes(include=bool).columns\n",
    "for column in boolean_columns:\n",
    "    print(df[column].value_counts())"
   ]
  }
 ],
 "metadata": {
  "kernelspec": {
   "display_name": ".venv",
   "language": "python",
   "name": "python3"
  },
  "language_info": {
   "codemirror_mode": {
    "name": "ipython",
    "version": 3
   },
   "file_extension": ".py",
   "mimetype": "text/x-python",
   "name": "python",
   "nbconvert_exporter": "python",
   "pygments_lexer": "ipython3",
   "version": "3.11.4"
  },
  "orig_nbformat": 4
 },
 "nbformat": 4,
 "nbformat_minor": 2
}
